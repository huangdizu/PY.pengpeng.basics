{
 "cells": [
  {
   "cell_type": "code",
   "execution_count": null,
   "id": "511bf55d",
   "metadata": {},
   "outputs": [],
   "source": [
    "#lesson11 Module模組的載入與使用\n",
    "#載入內建sys模組\n",
    "import sys as s\n",
    "print(s.platform)\n",
    "print(s.maxsize)\n",
    "print(\"----------\")\n",
    "\n",
    "#調整搜尋模組的路徑\n",
    "import sys\n",
    "#在模組的搜尋路徑列表中[新增路徑]\n",
    "sys.path.append(\"modules\") #假設自創了一個模組geometry，但放到不同的資料夾，放到新的modules資料夾，因此就必須打這個模組才可以被搜尋到\n",
    "print(sys.path) #印出模組的搜尋路徑列表"
   ]
  },
  {
   "cell_type": "code",
   "execution_count": null,
   "id": "4eb0839c",
   "metadata": {},
   "outputs": [],
   "source": [
    "#lesson12 Package封包的設計與使用\n",
    "#就一個重點\n",
    "#要用一個封包\n",
    "#封包底下要有一個 __init__.py 才有辦法組成一個封包"
   ]
  },
  {
   "cell_type": "code",
   "execution_count": 2,
   "id": "94269add",
   "metadata": {},
   "outputs": [
    {
     "name": "stdout",
     "output_type": "stream",
     "text": [
      "654321\n",
      "1456\n",
      "----------\n",
      "655777\n",
      "----------\n",
      "{'name': 'Lannister', 'version': '1.2.5'}\n",
      "name:  Lannister\n",
      "version:  1.2.5\n"
     ]
    }
   ],
   "source": [
    "#lesson13 文字檔案的讀取與儲存\n",
    "\n",
    "#我有一個疑問: 最下面json.dump的arguments需要確定一下是什麼意思\n",
    "\n",
    "#儲存檔案\n",
    "file=open(\"data13-1.txt\", mode=\"w\", encoding=\"utf-8\") #開啟\n",
    "file.write(\"你好會寫程式\\n我好強\") #操作\n",
    "file.close() #關閉\n",
    "\n",
    "#寫入檔案\n",
    "with open(\"data13-2.txt\", mode=\"w\", encoding=\"utf-8\") as file:\n",
    "    file.write(\"654321\\n1456\")\n",
    "\n",
    "#讀取檔案\n",
    "with open(\"data13-2.txt\", mode=\"r\", encoding=\"utf-8\") as file:\n",
    "    data=file.read()\n",
    "print(data)\n",
    "print(\"----------\")\n",
    "\n",
    "#讀取檔案\n",
    "#把檔案中的數字資料，一行一行的讀取出來，並計算總合\n",
    "sum=0\n",
    "with open(\"data13-2.txt\", mode=\"r\", encoding=\"utf-8\") as file:\n",
    "    for line in file:\n",
    "        sum += int(line)\n",
    "print(sum)\n",
    "print(\"----------\")\n",
    "\n",
    "#使用json格式讀取、複寫檔案\n",
    "import json\n",
    "with open(\"config.json\", mode=\"r\") as file:\n",
    "    data=json.load(file)\n",
    "print(data) #data是一個字典資料\n",
    "print(\"name: \", data[\"name\"])\n",
    "print(\"version: \", data[\"version\"])\n",
    "\n",
    "data[\"name\"]= \"Lannister\" #修改變數中的資料\n",
    "#把最新的資料複寫回檔案中\n",
    "with open(\"config.json\", mode=\"w\") as file:\n",
    "    json.dump(data, file)"
   ]
  },
  {
   "cell_type": "code",
   "execution_count": 12,
   "id": "7d768320",
   "metadata": {},
   "outputs": [
    {
     "name": "stdout",
     "output_type": "stream",
     "text": [
      "10\n",
      "[1, 8, 5]\n",
      "[20, 1, 5, 8]\n",
      "----------\n",
      "0.7352296489900345\n",
      "80.31766700970934\n",
      "110.42907442459884\n",
      "----------\n",
      "128.625\n",
      "4.5\n",
      "352.0957408351963\n"
     ]
    }
   ],
   "source": [
    "#lesson14 亂數與統計模組\n",
    "#隨機模組\n",
    "import random\n",
    "#隨機選取\n",
    "data=random.choice([1,5,8,10])     \n",
    "print(data)\n",
    "\n",
    "#隨機選取3筆\n",
    "data=random.sample([1,5,8,10], 3)  \n",
    "print(data)\n",
    "\n",
    "#隨機調換順序(洗牌的概念)\n",
    "data=[1, 5, 8, 20]\n",
    "random.shuffle(data)\n",
    "print(data)\n",
    "print(\"----------\")\n",
    "\n",
    "#隨機取得亂數\n",
    "data=random.random() #0~1之間的亂數\n",
    "print(data)\n",
    "\n",
    "data=random.uniform(60, 100)\n",
    "print(data)\n",
    "\n",
    "#取得常態分配亂數\n",
    "#平均數100, 標準差10, 得到的資料多數在90~110之間\n",
    "data=random.normalvariate(100, 10)\n",
    "print(data)\n",
    "print(\"----------\")\n",
    "\n",
    "#統計模組\n",
    "import statistics as stat\n",
    "data=stat.mean([1,2,3,4,5,6,8,1000])\n",
    "print(data)\n",
    "data=stat.median([1,2,3,4,5,6,8,1000])\n",
    "print(data)\n",
    "data=stat.stdev([1,2,3,4,5,6,8,1000])\n",
    "print(data)"
   ]
  }
 ],
 "metadata": {
  "kernelspec": {
   "display_name": "Python 3 (ipykernel)",
   "language": "python",
   "name": "python3"
  },
  "language_info": {
   "codemirror_mode": {
    "name": "ipython",
    "version": 3
   },
   "file_extension": ".py",
   "mimetype": "text/x-python",
   "name": "python",
   "nbconvert_exporter": "python",
   "pygments_lexer": "ipython3",
   "version": "3.9.12"
  }
 },
 "nbformat": 4,
 "nbformat_minor": 5
}
