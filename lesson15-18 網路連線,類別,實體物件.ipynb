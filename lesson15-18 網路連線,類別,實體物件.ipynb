{
 "cells": [
  {
   "cell_type": "code",
   "execution_count": null,
   "id": "b68cbf0a",
   "metadata": {},
   "outputs": [],
   "source": [
    "#lesson 15 網路連線程式、公開資料串接\n",
    "#urllib.request是內建模組\n",
    "import urllib.request as request\n",
    "src=\"https://www.ntu.edu.tw/\"\n",
    "with request.urlopen(src) as response:\n",
    "    data=response.read().decode(\"utf-8\") # 取得台灣大學網站的原始碼(HTML, CSS, JS)\n",
    "#可以print(data)出來看看長怎樣\n",
    "\n",
    "#\n",
    "import urllib.request as request\n",
    "import json\n",
    "src=\"https://data.taipei/api/v1/dataset/296acfa2-5d93-4706-ad58-e83cc951863c?scope=resourceAquire\"\n",
    "with request.urlopen(src) as response:\n",
    "    data=json.load(response) # 利用json模組處理 json資料格式\n",
    "#可以print(data)出來，看看json格式長怎樣\n",
    "#將公司名稱列表出來\n",
    "clist=data[\"result\"][\"results\"]\n",
    "#可以print(clist)出來，看看裡面長怎樣\n",
    "for company in clist:\n",
    "    print(company[\"公司名稱\"])\n",
    "print(\"----------\")\n",
    "    \n",
    "#跟上一步驟主要差別在是否寫進一個檔案中\n",
    "import urllib.request as request\n",
    "import json\n",
    "src=\"https://data.taipei/api/v1/dataset/296acfa2-5d93-4706-ad58-e83cc951863c?scope=resourceAquire\"\n",
    "with request.urlopen(src) as response:\n",
    "    data=json.load(response) # 利用json模組處理 json資料格式\n",
    "#將公司名稱列表出來\n",
    "clist=data[\"result\"][\"results\"]\n",
    "with open(\"data15-1.txt\", \"w\", encoding = \"utf-8\") as file:\n",
    "    for company in clist:\n",
    "        file.write(company[\"公司名稱\"]+\"\\n\")\n",
    "        print(company[\"公司名稱\"])"
   ]
  },
  {
   "cell_type": "code",
   "execution_count": 1,
   "id": "d7e34f77",
   "metadata": {
    "scrolled": true
   },
   "outputs": [
    {
     "name": "stdout",
     "output_type": "stream",
     "text": [
      "['console', 'file']\n",
      "Read from file\n",
      "Not Supported\n",
      "----------\n",
      "['console', 'file']\n",
      "Read from file\n",
      "Read from internet\n"
     ]
    }
   ],
   "source": [
    "#lesson16 類別的定義與使用-Class Attributes\n",
    "#定義類別與類別屬性(封裝在類別中的變數和函式)\n",
    "#定義一個類別IO, 有兩個屬性 supportedSrcs 和 read\n",
    "class IO:\n",
    "    supportedSrcs=[\"console\", \"file\"]\n",
    "    def read(src):\n",
    "        if src not in IO.supportedSrcs:\n",
    "            print(\"Not Supported\")\n",
    "        else:\n",
    "            print(\"Read from\", src)\n",
    "#使用類別\n",
    "print(IO.supportedSrcs)\n",
    "IO.read(\"file\")\n",
    "IO.read(\"internet\")\n",
    "print(\"----------\")\n",
    "\n",
    "#稍微應用\n",
    "class IO:\n",
    "    supportedSrcs=[\"console\", \"file\"]\n",
    "    def read(src):\n",
    "        print(\"Read from\", src)\n",
    "print(IO.supportedSrcs)\n",
    "IO.read(\"file\")\n",
    "IO.read(\"internet\")"
   ]
  },
  {
   "cell_type": "code",
   "execution_count": 14,
   "id": "fcc100b0",
   "metadata": {
    "scrolled": true
   },
   "outputs": [
    {
     "name": "stdout",
     "output_type": "stream",
     "text": [
      "<__main__.Point object at 0x000001471067FA30>\n",
      "3 4\n",
      "5 6\n",
      "----------\n",
      "Tywin Lannister\n",
      "Robert Baratheon\n"
     ]
    }
   ],
   "source": [
    "#lesson17 實體物件的建立與使用-實體屬性Instance Attributes\n",
    "\n",
    "#我在想實體物件的設立，是不是因為可以給物件內的參數取名字\n",
    "\n",
    "#Point 實體物件的設計:平面座標上的點\n",
    "class Point:\n",
    "    def __init__(self, x, y):\n",
    "        self.x=x   \n",
    "        self.y=y\n",
    "#建立第一個實體物件\n",
    "p1=Point(3,4)\n",
    "print(p1)\n",
    "print(p1.x, p1.y)\n",
    "#建立第二個實體物件\n",
    "p2=Point(5,6)\n",
    "print(p2.x, p2.y)\n",
    "print(\"----------\")\n",
    "\n",
    "#FullName 實體物件的設計:分開紀錄姓名資料的全名\n",
    "class FullName:\n",
    "    def __init__(self, first, last):\n",
    "        self.first=first\n",
    "        self.last=last\n",
    "name1=FullName(\"Tywin\", \"Lannister\")\n",
    "print(name1.first, name1.last)\n",
    "name2=FullName(\"Robert\", \"Baratheon\")\n",
    "print(name2.first, name2.last)"
   ]
  },
  {
   "cell_type": "code",
   "execution_count": 19,
   "id": "2da43d3f",
   "metadata": {},
   "outputs": [
    {
     "name": "stdout",
     "output_type": "stream",
     "text": [
      "3 4\n",
      "5.0\n",
      "----------\n",
      "我好強\n",
      "你牛掰\n"
     ]
    }
   ],
   "source": [
    "#lesson18 實體物件的建立與使用-實體方法Instance Methods\n",
    "\n",
    "#下面下面實體方法的self.file，要把東西丟給self.file不知道是不是為了他下面self.file.read的方便\n",
    "\n",
    "#Point 實體物件的設計: 平面座標上的點\n",
    "class Point:\n",
    "    def __init__(self, x, y):\n",
    "        self.x=x\n",
    "        self.y=y\n",
    "    #定義實體方法\n",
    "    def show(self):\n",
    "        print(self.x, self.y)\n",
    "    def distance(self, targetX, targetY):\n",
    "        return (((self.x-targetX)**2)+((self.y-targetY)**2))**0.5\n",
    "p=Point(3,4)\n",
    "p.show() #呼叫實體方法 / 函式\n",
    "result=p.distance(0,0) #計算座標 3,4 和座標 0,0 之間的距離\n",
    "print(result)\n",
    "print(\"----------\")\n",
    "\n",
    "# File 實體物件的設計: 包裝檔案讀取的程式\n",
    "class File:\n",
    "    #初始化函式\n",
    "    def __init__(self, name):\n",
    "        self.name=name\n",
    "        self.file=None #尚未開啟檔案: 初期是None\n",
    "    #實體方法\n",
    "    def open(self):\n",
    "        self.file=open(self.name, mode=\"r\", encoding=\"utf-8\")\n",
    "    def read(self):\n",
    "        return self.file.read()\n",
    "#讀取第一個檔案\n",
    "f1=File(\"data18-1.txt\")\n",
    "f1.open()\n",
    "data=f1.read()\n",
    "print(data)\n",
    "#讀取第二個檔案\n",
    "f2=File(\"data18-2.txt\")\n",
    "f2.open()\n",
    "data=f2.read()\n",
    "print(data)"
   ]
  }
 ],
 "metadata": {
  "kernelspec": {
   "display_name": "Python 3 (ipykernel)",
   "language": "python",
   "name": "python3"
  },
  "language_info": {
   "codemirror_mode": {
    "name": "ipython",
    "version": 3
   },
   "file_extension": ".py",
   "mimetype": "text/x-python",
   "name": "python",
   "nbconvert_exporter": "python",
   "pygments_lexer": "ipython3",
   "version": "3.9.12"
  }
 },
 "nbformat": 4,
 "nbformat_minor": 5
}
