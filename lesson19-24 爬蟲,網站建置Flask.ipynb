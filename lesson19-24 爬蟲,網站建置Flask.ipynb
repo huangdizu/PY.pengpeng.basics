{
 "cells": [
  {
   "cell_type": "code",
   "execution_count": null,
   "id": "2bee5379",
   "metadata": {},
   "outputs": [],
   "source": [
    "#lesson19 網路爬蟲Web Crawler基本教學\n",
    "#抓取網頁原始碼(HTML)\n",
    "import urllib.request as req\n",
    "url=\"https://www.ptt.cc/bbs/movie/index9503.html\"\n",
    "#建立一個 Request 物件，附加 Request Headers 的資訊，需要headers才看起來像一般使用者\n",
    "request=req.Request(url, headers={\n",
    "    \"User-Agent\":\"Mozilla/5.0 (Windows NT 10.0; Win64; x64) AppleWebKit/537.36 (KHTML, like Gecko) Chrome/100.0.4896.127 Safari/537.36)\"\n",
    "})\n",
    "with req.urlopen(request) as response:\n",
    "    data=response.read().decode(\"utf-8\")\n",
    "\n",
    "#解析原始碼，取得看板的title\n",
    "#直接在下面 TERMINAL 安裝 pip install BeautifulSoup4\n",
    "import bs4\n",
    "root=bs4.BeautifulSoup(data, \"html.parser\") #把剛抓下來的data，讓BeautifulSoup協助我們解析HTML格式文件\n",
    "print(root.title.string)\n",
    "\n",
    "#解析原始碼，取得每篇文章的標題\n",
    "import bs4\n",
    "root=bs4.BeautifulSoup(data, \"html.parser\") #把剛抓下來的data，讓BeautifulSoup協助我們解析HTML格式文件\n",
    "titles=root.find(\"div\", class_=\"title\") #尋找class=\"title\"的div標籤(不確定為啥要加一個橫槓在class後面，但不加好像不能跑)\n",
    "print(titles.a.string)\n",
    "\n",
    "#上面的root.find只找出一項，所以要用root.find_all\n",
    "import bs4\n",
    "root=bs4.BeautifulSoup(data, \"html.parser\") #讓 BeautifulSoup 協助我們解析 HTML 格式文件\n",
    "titles=root.find_all(\"div\", class_=\"title\") #尋找class=\"title\"的div標籤\n",
    "for title in titles:\n",
    "    if title.a != None: #如果標題包含a標籤(該文章沒有被刪除)，印出來\n",
    "        print(title.a.string)"
   ]
  },
  {
   "cell_type": "code",
   "execution_count": null,
   "id": "e2a6c386",
   "metadata": {},
   "outputs": [],
   "source": [
    "#lesson20 網路爬蟲Web Crawler教學-Cookie操作實務\n",
    "#抓取網頁原始碼(HTML)\n",
    "import urllib.request as req\n",
    "def getData(url):\n",
    "    request=req.Request(url, headers={\n",
    "        #跟lesson 19 的不同在於cookie，因為八卦版進入前會先問是否已滿十八歲，我們要先閃過他，記得加他媽的逗號\n",
    "        \"cookie\":\"over18=1\",\n",
    "        \"User-Agent\":\"Mozilla/5.0 (Windows NT 10.0; Win64; x64) AppleWebKit/537.36 (KHTML, like Gecko) Chrome/100.0.4896.127 Safari/537.36\"\n",
    "    })\n",
    "    with req.urlopen(request) as response:\n",
    "        data=response.read().decode(\"utf-8\")\n",
    "\n",
    "    import bs4\n",
    "    root=bs4.BeautifulSoup(data, \"html.parser\")\n",
    "    titles=root.find_all(\"div\", class_=\"title\") #尋找class=\"title\"的div標籤\n",
    "    for title in titles:\n",
    "        if title.a != None: #如果標題包含a標籤(該文章沒有被刪除)，印出來\n",
    "            print(title.a.string)\n",
    "    #抓取上一頁面的連結\n",
    "    nextlink=root.find(\"a\", string=\"‹ 上頁\") #找到內文是‹ 上頁 的a標籤\n",
    "    return nextlink[\"href\"]\n",
    "\n",
    "#主程序: 抓取多個頁面的標題\n",
    "pageURL=\"https://www.ptt.cc/bbs/Gossiping/index.html\"\n",
    "count=0\n",
    "#做了一個迴圈想抓幾頁自己安排\n",
    "while count<3:\n",
    "    pageURL=\"https://www.ptt.cc\"+getData(pageURL)\n",
    "    count+=1"
   ]
  },
  {
   "cell_type": "code",
   "execution_count": null,
   "id": "cdb1d9ee",
   "metadata": {},
   "outputs": [],
   "source": [
    "#lesson21 網路爬蟲Web Crawler教學-AJAX/XHR網站技術分析實務\n",
    "#由於新版的Medium跟老師上的版本已經玩群不同，先把老師的程式碼抄下來，但沒跑過\n",
    "#抓取Medium.com的文章資料\n",
    "import urllib.request as req\n",
    "url=\"https://medium.com/\"\n",
    "request=req.Request(url, headers={\n",
    "    \"user-agent\":\"Mozilla/5.0 (Windows NT 10.0; Win64; x64) AppleWebKit/537.36 (KHTML, like Gecko) Chrome/100.0.4896.127 Safari/537.36\"\n",
    "})\n",
    "with req.urlopen(request) as response:\n",
    "    data=response.read().decode(\"utf-8\") #根據觀察，取得的資料是JSON的格式\n",
    "    \n",
    "#解析JSON格式的資料，取得每篇文章的標題\n",
    "import json\n",
    "data=data.replace(\"])}while(1);</x>\",\"\") #先將莫名其妙的字串轉換為空字串\n",
    "data=json.loads(data) #把原始的JSON資料解析成字典/列表的表示形式\n",
    "#取得JSON資料中的文章標題\n",
    "posts=data[\"payload\"][\"references\"][\"Post\"]\n",
    "for key in posts:\n",
    "    post=posts[key]\n",
    "    print(post[\"title\"])"
   ]
  },
  {
   "cell_type": "code",
   "execution_count": 28,
   "id": "be264b8e",
   "metadata": {
    "scrolled": true
   },
   "outputs": [
    {
     "name": "stdout",
     "output_type": "stream",
     "text": [
      "Escape Fantasies of the Tech Billionaires\n",
      "There’s Nothing New About Undermining Women’s Autonomy\n",
      "How to Make a Mother\n",
      "Have More Sex, Sleep Expert Advises\n",
      "How Are You So Easy to Find on the Internet?\n",
      "Can Linkin Park Ever Replace Chester Bennington?\n",
      "Why Write?\n",
      "How Lying Affects Linguistic Expression\n",
      "Other People’s Anger\n",
      "Is Allergy Season Getting Worse Every Year?\n",
      "About those kill-switched Ukrainian tractors\n",
      "The Return of 1980s-Era Nuclear-Strike Maps\n",
      "How to Grow Your Child’s Social Skills\n",
      "The College Kids Are Back to Normal\n",
      "What About the “Woke” Right?\n",
      "Why the “Improve by 1% Every Day” Mantra Is Bullsh*t\n",
      "It’s Not The Size Of Your Sabbatical\n",
      "Getting Inside Putin’s Head\n",
      "My Mom Was for the Birds\n",
      "What Does the Perfect Work Day Look Like?\n",
      "The Attention Economy is Making Us Stupid\n",
      "The Abercrombie & Fitch Documentary Reveals How Power Decides What’s Cool\n",
      "Pregnancy is Dangerous, Debilitating, and Costly Unpaid Work\n",
      "Men Cause 100% of Unwanted Pregnancies\n",
      "As NFT Sales Continue to Plummet, Is the Bubble About To Burst?\n"
     ]
    }
   ],
   "source": [
    "#lesson22 網路爬蟲Web Crawler教學-Request Data操作實務\n",
    "#抓取Medium.com的文章資料新版，加入Request Data觀念\n",
    "import urllib.request as req\n",
    "import json\n",
    "#建立連線網址\n",
    "url=\"https://medium.com/_/graphql\"\n",
    "#建立一個Request物件，附上Request Headers和Request Data的資訊(總共三個參數)\n",
    "#將requestData內容從字典改成字串\n",
    "requestData=[{\"operationName\":\"TopicHandlerHomeFeed\",\"variables\":{\"topicSlug\":\"editors-picks\",\"feedPagingOptions\":{\"limit\":25,\"to\":\"1652213118384\"}},\"query\":\"query TopicHandlerHomeFeed($topicSlug: ID!, $feedPagingOptions: PagingOptions) {\\n  topic(slug: $topicSlug) {\\n    ...CuratedHomeFeedItems_topic\\n    __typename\\n  }\\n}\\n\\nfragment CuratedHomeFeedItems_topic on Topic {\\n  id\\n  name\\n  latestPosts(paging: $feedPagingOptions) {\\n    postPreviews {\\n      postId\\n      post {\\n        id\\n        ...HomeFeedItem_post\\n        __typename\\n      }\\n      __typename\\n    }\\n    pagingInfo {\\n      next {\\n        limit\\n        to\\n        __typename\\n      }\\n      __typename\\n    }\\n    __typename\\n  }\\n  __typename\\n}\\n\\nfragment HomeFeedItem_post on Post {\\n  __typename\\n  id\\n  title\\n  firstPublishedAt\\n  mediumUrl\\n  collection {\\n    id\\n    name\\n    domain\\n    logo {\\n      id\\n      __typename\\n    }\\n    __typename\\n  }\\n  creator {\\n    id\\n    name\\n    username\\n    imageId\\n    mediumMemberAt\\n    __typename\\n  }\\n  previewImage {\\n    id\\n    __typename\\n  }\\n  previewContent {\\n    subtitle\\n    __typename\\n  }\\n  readingTime\\n  tags {\\n    ...TopicPill_tag\\n    __typename\\n  }\\n  ...BookmarkButton_post\\n  ...OverflowMenuButtonWithNegativeSignal_post\\n  ...PostPresentationTracker_post\\n  ...PostPreviewAvatar_post\\n}\\n\\nfragment TopicPill_tag on Tag {\\n  __typename\\n  id\\n  displayTitle\\n}\\n\\nfragment BookmarkButton_post on Post {\\n  visibility\\n  ...SusiClickable_post\\n  ...AddToCatalogBookmarkButton_post\\n  __typename\\n  id\\n}\\n\\nfragment SusiClickable_post on Post {\\n  id\\n  mediumUrl\\n  ...SusiContainer_post\\n  __typename\\n}\\n\\nfragment SusiContainer_post on Post {\\n  id\\n  __typename\\n}\\n\\nfragment AddToCatalogBookmarkButton_post on Post {\\n  ...AddToCatalogBase_post\\n  __typename\\n  id\\n}\\n\\nfragment AddToCatalogBase_post on Post {\\n  id\\n  __typename\\n}\\n\\nfragment OverflowMenuButtonWithNegativeSignal_post on Post {\\n  id\\n  ...OverflowMenuWithNegativeSignal_post\\n  ...CreatorActionOverflowPopover_post\\n  __typename\\n}\\n\\nfragment OverflowMenuWithNegativeSignal_post on Post {\\n  id\\n  creator {\\n    id\\n    __typename\\n  }\\n  collection {\\n    id\\n    __typename\\n  }\\n  ...OverflowMenuItemUndoClaps_post\\n  __typename\\n}\\n\\nfragment OverflowMenuItemUndoClaps_post on Post {\\n  id\\n  clapCount\\n  ...ClapMutation_post\\n  __typename\\n}\\n\\nfragment ClapMutation_post on Post {\\n  __typename\\n  id\\n  clapCount\\n  ...MultiVoteCount_post\\n}\\n\\nfragment MultiVoteCount_post on Post {\\n  id\\n  ...PostVotersNetwork_post\\n  __typename\\n}\\n\\nfragment PostVotersNetwork_post on Post {\\n  id\\n  voterCount\\n  recommenders {\\n    name\\n    __typename\\n  }\\n  __typename\\n}\\n\\nfragment CreatorActionOverflowPopover_post on Post {\\n  allowResponses\\n  id\\n  statusForCollection\\n  isLocked\\n  isPublished\\n  clapCount\\n  mediumUrl\\n  pinnedAt\\n  pinnedByCreatorAt\\n  curationEligibleAt\\n  mediumUrl\\n  responseDistribution\\n  visibility\\n  inResponseToPostResult {\\n    __typename\\n  }\\n  inResponseToCatalogResult {\\n    __typename\\n  }\\n  pendingCollection {\\n    id\\n    name\\n    creator {\\n      id\\n      __typename\\n    }\\n    avatar {\\n      id\\n      __typename\\n    }\\n    domain\\n    slug\\n    __typename\\n  }\\n  creator {\\n    id\\n    ...MutePopoverOptions_creator\\n    ...auroraHooks_publisher\\n    __typename\\n  }\\n  collection {\\n    id\\n    name\\n    creator {\\n      id\\n      __typename\\n    }\\n    avatar {\\n      id\\n      __typename\\n    }\\n    domain\\n    slug\\n    ...MutePopoverOptions_collection\\n    ...auroraHooks_publisher\\n    __typename\\n  }\\n  ...useIsPinnedInContext_post\\n  ...NewsletterV3EmailToSubscribersMenuItem_post\\n  ...OverflowMenuItemUndoClaps_post\\n  __typename\\n}\\n\\nfragment MutePopoverOptions_creator on User {\\n  id\\n  __typename\\n}\\n\\nfragment auroraHooks_publisher on Publisher {\\n  __typename\\n  ... on Collection {\\n    isAuroraEligible\\n    isAuroraVisible\\n    viewerEdge {\\n      id\\n      isEditor\\n      __typename\\n    }\\n    __typename\\n    id\\n  }\\n  ... on User {\\n    isAuroraVisible\\n    __typename\\n    id\\n  }\\n}\\n\\nfragment MutePopoverOptions_collection on Collection {\\n  id\\n  __typename\\n}\\n\\nfragment useIsPinnedInContext_post on Post {\\n  id\\n  collection {\\n    id\\n    __typename\\n  }\\n  pendingCollection {\\n    id\\n    __typename\\n  }\\n  pinnedAt\\n  pinnedByCreatorAt\\n  __typename\\n}\\n\\nfragment NewsletterV3EmailToSubscribersMenuItem_post on Post {\\n  id\\n  creator {\\n    id\\n    newsletterV3 {\\n      id\\n      subscribersCount\\n      __typename\\n    }\\n    __typename\\n  }\\n  isNewsletter\\n  isAuthorNewsletter\\n  __typename\\n}\\n\\nfragment PostPresentationTracker_post on Post {\\n  id\\n  visibility\\n  previewContent {\\n    isFullContent\\n    __typename\\n  }\\n  collection {\\n    id\\n    slug\\n    __typename\\n  }\\n  __typename\\n}\\n\\nfragment PostPreviewAvatar_post on Post {\\n  __typename\\n  id\\n  collection {\\n    id\\n    name\\n    ...CollectionAvatar_collection\\n    __typename\\n  }\\n  creator {\\n    id\\n    username\\n    name\\n    ...UserAvatar_user\\n    ...userUrl_user\\n    __typename\\n  }\\n}\\n\\nfragment CollectionAvatar_collection on Collection {\\n  name\\n  avatar {\\n    id\\n    __typename\\n  }\\n  ...collectionUrl_collection\\n  __typename\\n  id\\n}\\n\\nfragment collectionUrl_collection on Collection {\\n  id\\n  domain\\n  slug\\n  __typename\\n}\\n\\nfragment UserAvatar_user on User {\\n  __typename\\n  id\\n  imageId\\n  mediumMemberAt\\n  name\\n  username\\n  ...userUrl_user\\n}\\n\\nfragment userUrl_user on User {\\n  __typename\\n  id\\n  customDomainState {\\n    live {\\n      domain\\n      __typename\\n    }\\n    __typename\\n  }\\n  hasSubdomain\\n  username\\n}\\n\"}]\n",
    "request=req.Request(url, headers={\n",
    "    \"content-type\":\"application/json\",\n",
    "    \"user-agent\":\"Mozilla/5.0 (Windows NT 10.0; Win64; x64) AppleWebKit/537.36 (KHTML, like Gecko) Chrome/100.0.4896.127 Safari/537.36\"\n",
    "}, data=json.dumps(requestData).encode(\"utf-8\"))\n",
    "#發出請求\n",
    "with req.urlopen(request) as response:\n",
    "    result=response.read().decode(\"utf-8\")\n",
    "\n",
    "#解析JSON格式的資料，取得每篇文章的標題\n",
    "result=json.loads(result)\n",
    "#print(result[0][\"data\"][\"topic\"][\"latestPosts\"][\"postPreviews\"][0][\"post\"][\"title\"]) #試著印出第一篇文章的標題\n",
    "#注意 items此時為一個列表\n",
    "items=result[0][\"data\"][\"topic\"][\"latestPosts\"][\"postPreviews\"]\n",
    "for item in items:\n",
    "    print(item[\"post\"][\"title\"])"
   ]
  },
  {
   "cell_type": "code",
   "execution_count": 26,
   "id": "39b53fd2",
   "metadata": {
    "scrolled": false
   },
   "outputs": [
    {
     "name": "stdout",
     "output_type": "stream",
     "text": [
      " * Serving Flask app \"__main__\" (lazy loading)\n",
      " * Environment: production\n",
      "\u001b[31m   WARNING: This is a development server. Do not use it in a production deployment.\u001b[0m\n",
      "\u001b[2m   Use a production WSGI server instead.\u001b[0m\n",
      " * Debug mode: off\n"
     ]
    },
    {
     "name": "stderr",
     "output_type": "stream",
     "text": [
      " * Running on http://127.0.0.1:5000/ (Press CTRL+C to quit)\n",
      "127.0.0.1 - - [13/May/2022 00:36:07] \"GET / HTTP/1.1\" 200 -\n",
      "127.0.0.1 - - [13/May/2022 00:36:13] \"GET /test HTTP/1.1\" 200 -\n",
      "127.0.0.1 - - [13/May/2022 00:39:09] \"GET /test HTTP/1.1\" 200 -\n",
      "127.0.0.1 - - [13/May/2022 00:39:10] \"GET /test HTTP/1.1\" 200 -\n",
      "127.0.0.1 - - [13/May/2022 00:39:14] \"GET / HTTP/1.1\" 200 -\n",
      "127.0.0.1 - - [13/May/2022 00:39:20] \"GET /test HTTP/1.1\" 200 -\n",
      "127.0.0.1 - - [13/May/2022 00:39:31] \"GET /test HTTP/1.1\" 200 -\n",
      "127.0.0.1 - - [13/May/2022 00:40:42] \"GET / HTTP/1.1\" 200 -\n",
      "127.0.0.1 - - [13/May/2022 00:41:17] \"GET /test HTTP/1.1\" 200 -\n"
     ]
    }
   ],
   "source": [
    "#lesson23 Flask網站開發-基礎環境建置教學\n",
    "#pip install flask\n",
    "from flask import Flask\n",
    "app=Flask(__name__) #__name__為python內建的變數，他會儲存這個程式在哪個模組下執行(代表目前執行的模組)\n",
    "\n",
    "@app.route(\"/\") #函式的裝飾(Decorator):以函式為基礎，提供附加的功能\n",
    "def home():\n",
    "    return \"Hello Flask\"\n",
    "\n",
    "@app.route(\"/test\") #代表我們要處理的網站路徑\n",
    "def test():\n",
    "    return \"Lannisters send their regards\"\n",
    "\n",
    "if __name__==\"__main__\": #如果以主程式執行\n",
    "    app.run() #立刻啟動伺服器"
   ]
  },
  {
   "cell_type": "code",
   "execution_count": 1,
   "id": "6e3e1bca",
   "metadata": {},
   "outputs": [
    {
     "name": "stdout",
     "output_type": "stream",
     "text": [
      " * Serving Flask app \"__main__\" (lazy loading)\n",
      " * Environment: production\n",
      "\u001b[31m   WARNING: This is a development server. Do not use it in a production deployment.\u001b[0m\n",
      "\u001b[2m   Use a production WSGI server instead.\u001b[0m\n",
      " * Debug mode: off\n"
     ]
    },
    {
     "name": "stderr",
     "output_type": "stream",
     "text": [
      " * Running on http://127.0.0.1:5000/ (Press CTRL+C to quit)\n",
      "127.0.0.1 - - [16/May/2022 22:19:46] \"GET / HTTP/1.1\" 200 -\n",
      "127.0.0.1 - - [16/May/2022 22:19:46] \"GET /favicon.ico HTTP/1.1\" 404 -\n",
      "127.0.0.1 - - [16/May/2022 22:19:52] \"GET /test HTTP/1.1\" 200 -\n",
      "127.0.0.1 - - [16/May/2022 22:21:50] \"GET / HTTP/1.1\" 200 -\n",
      "127.0.0.1 - - [16/May/2022 22:25:31] \"GET / HTTP/1.1\" 200 -\n",
      "127.0.0.1 - - [16/May/2022 22:25:33] \"GET / HTTP/1.1\" 200 -\n"
     ]
    }
   ],
   "source": [
    "#lesson24 Flask網站開發-Heroku雲端主機教學\n",
    "#pip install flask\n",
    "#上網安裝git\n",
    "#上網安裝heroku\n",
    "#git\n",
    "#heroku\n",
    "#heroku login\n",
    "#git init\n",
    "#heroku git:remote -a python-training-huangpohsun\n",
    "#以上動作為 初始化專案\n",
    "#git add .\n",
    "#git commit -m \"First Deploy\"\n",
    "#git push heroku master\n",
    "\n",
    "#若更改網站內容，做以下動作\n",
    "#git add .\n",
    "#git commit -m \"Second Deploy\"\n",
    "#git push heroku master\n",
    "\n",
    "from flask import Flask\n",
    "app=Flask(__name__) #__name__為python內建的變數，他會儲存這個程式在哪個模組下執行(代表目前執行的模組)\n",
    "\n",
    "@app.route(\"/\") #函式的裝飾(Decorator):以函式為基礎，提供附加的功能\n",
    "def home():\n",
    "    return \"Hello Flask\"\n",
    "\n",
    "@app.route(\"/test\") #代表我們要處理的網站路徑\n",
    "def test():\n",
    "    return \"Lannisters send their regards\"\n",
    "\n",
    "if __name__==\"__main__\": #如果以主程式執行\n",
    "    app.run() #立刻啟動伺服器\n"
   ]
  }
 ],
 "metadata": {
  "kernelspec": {
   "display_name": "Python 3 (ipykernel)",
   "language": "python",
   "name": "python3"
  },
  "language_info": {
   "codemirror_mode": {
    "name": "ipython",
    "version": 3
   },
   "file_extension": ".py",
   "mimetype": "text/x-python",
   "name": "python",
   "nbconvert_exporter": "python",
   "pygments_lexer": "ipython3",
   "version": "3.9.12"
  }
 },
 "nbformat": 4,
 "nbformat_minor": 5
}
