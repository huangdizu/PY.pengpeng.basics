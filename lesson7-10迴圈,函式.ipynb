{
 "cells": [
  {
   "cell_type": "code",
   "execution_count": 47,
   "id": "4daa6563",
   "metadata": {},
   "outputs": [
    {
     "name": "stdout",
     "output_type": "stream",
     "text": [
      "11325\n",
      "249638340\n"
     ]
    }
   ],
   "source": [
    "#lesson7 流程控制:迴圈基礎，while迴圈、for迴圈\n",
    "\n",
    "#我有一個疑問:不知道為什麼一定要寫sum=0，是因為不知道這個變數的型態嗎??\n",
    "\n",
    "#while迴圈\n",
    "n=1\n",
    "sum=0\n",
    "while n<=150:\n",
    "    sum+=n\n",
    "    n+=1\n",
    "print(sum)\n",
    "\n",
    "#for迴圈\n",
    "sum=0\n",
    "for x in range(22345):\n",
    "    sum+=x\n",
    "print(sum)\n",
    "    "
   ]
  },
  {
   "cell_type": "code",
   "execution_count": 38,
   "id": "a080be4e",
   "metadata": {
    "scrolled": true
   },
   "outputs": [
    {
     "name": "stdout",
     "output_type": "stream",
     "text": [
      "0\n",
      "1\n",
      "2\n",
      "最後的n:  3\n",
      "----------\n",
      "1\n",
      "3\n",
      "5\n",
      "7\n",
      "最後的n:  4\n",
      "----------\n",
      "55\n",
      "----------\n",
      "輸入一個整數: 864\n",
      "沒有整數平方根\n"
     ]
    }
   ],
   "source": [
    "#lesson8 流程控制:迴圈進階控制，break、continue、else命令\n",
    "\n",
    "#用break強制結束迴圈時，不會執行else區塊\n",
    "#break直接跳出迴圈\n",
    "n=0\n",
    "while n<5:\n",
    "    if n==3:\n",
    "        break\n",
    "    print(n)\n",
    "    n+=1\n",
    "print(\"最後的n: \", n)\n",
    "print(\"----------\")\n",
    "\n",
    "#continue不執行迴圈剩餘部分，直接進到下一圈\n",
    "n=0\n",
    "for x in [0,1,2,3,4,5,6,7,8]:\n",
    "    if x%2==0:  #若x為偶數\n",
    "        continue\n",
    "    print(x)\n",
    "    n+=1\n",
    "print(\"有幾個奇數: \", n)\n",
    "print(\"----------\")\n",
    "\n",
    "#else在迴圈結束後，接著完成這個動作\n",
    "sum=0\n",
    "for n in range(11):\n",
    "    sum+=n\n",
    "else:\n",
    "    print(sum) #印出0+1+2+...+10的結果\n",
    "print(\"----------\")\n",
    "\n",
    "#綜合範例:找出整數平方根\n",
    "#輸入9，得到3\n",
    "#輸入11，得到(沒有)整數的平方根\n",
    "n=int(input(\"輸入一個整數: \"))\n",
    "for i in range(n):\n",
    "    if i*i==n:\n",
    "        print(\"整數平方根:\", i)\n",
    "        break #用break強制結束迴圈時，不會執行else區塊\n",
    "else:\n",
    "    print(\"沒有整數平方根\")"
   ]
  },
  {
   "cell_type": "code",
   "execution_count": 39,
   "id": "e8f223b4",
   "metadata": {
    "scrolled": true
   },
   "outputs": [
    {
     "name": "stdout",
     "output_type": "stream",
     "text": [
      "107748\n",
      "27776\n",
      "135524\n",
      "----------\n",
      "1975377255075\n"
     ]
    }
   ],
   "source": [
    "#lesson9 函式基礎:定義並呼叫函式\n",
    "#定義函式\n",
    "#函式內部的程式碼，若是沒有做函式呼叫，就不會執行\n",
    "#若沒寫return，即假設為return None\n",
    "#return才是重點，print不是，有return才有辦法繼續使用\n",
    "def multiply(n1, n2):\n",
    "    print(n1*n2)\n",
    "    return n1*n2\n",
    "#呼叫函式\n",
    "value=multiply(246, 438)+multiply(128, 217)\n",
    "print(value)\n",
    "print(\"----------\")\n",
    "\n",
    "#函式可用來做程式的包裝:同樣的邏輯可重複利用\n",
    "#假設要做出1加到10，注意max和max+1:\n",
    "def calculate(max):\n",
    "    sum=0\n",
    "    for n in range(1, max+1): \n",
    "        sum+=n\n",
    "    return sum\n",
    "print(calculate(1987650))"
   ]
  },
  {
   "cell_type": "code",
   "execution_count": 1,
   "id": "7545822a",
   "metadata": {},
   "outputs": [
    {
     "name": "stdout",
     "output_type": "stream",
     "text": [
      "9\n",
      "1\n",
      "----------\n",
      "0.5\n",
      "2.0\n",
      "----------\n",
      "(3, 4)\n",
      "3.5\n",
      "(3, 5, 10)\n",
      "6.0\n",
      "(4, 3, 6, 7, 1, 9)\n",
      "5.0\n"
     ]
    }
   ],
   "source": [
    "#lesson10 函式參數詳解:參數預設值、名稱對應、任意長度參數\n",
    "#參數的預設資料\n",
    "def power(base, exp=0):\n",
    "    print(base**exp)\n",
    "power(3,2)\n",
    "power(4)\n",
    "print(\"----------\")\n",
    "\n",
    "#使用參數名稱對應\n",
    "def divide(n1, n2):\n",
    "    print(n1/n2)\n",
    "divide(2,4)\n",
    "divide(n2=2,n1=4)\n",
    "print(\"----------\")\n",
    "\n",
    "#無限/不定 參數資料\n",
    "def avg(*ns):\n",
    "    print(ns) #純粹讓大家看一下ns裡面長怎樣\n",
    "    sum=0\n",
    "    for n in ns:\n",
    "        sum += n\n",
    "    print(sum/len(ns))\n",
    "avg(3,4)\n",
    "avg(3,5,10)\n",
    "avg(4,3,6,7,1,9)"
   ]
  },
  {
   "cell_type": "code",
   "execution_count": null,
   "id": "4e0d79a1",
   "metadata": {},
   "outputs": [],
   "source": []
  }
 ],
 "metadata": {
  "kernelspec": {
   "display_name": "Python 3 (ipykernel)",
   "language": "python",
   "name": "python3"
  },
  "language_info": {
   "codemirror_mode": {
    "name": "ipython",
    "version": 3
   },
   "file_extension": ".py",
   "mimetype": "text/x-python",
   "name": "python",
   "nbconvert_exporter": "python",
   "pygments_lexer": "ipython3",
   "version": "3.9.12"
  }
 },
 "nbformat": 4,
 "nbformat_minor": 5
}
